{
  "nbformat": 4,
  "nbformat_minor": 0,
  "metadata": {
    "colab": {
      "name": "Ensemble.ipynb",
      "provenance": []
    },
    "kernelspec": {
      "name": "python3",
      "display_name": "Python 3"
    },
    "language_info": {
      "name": "python"
    }
  },
  "cells": [
    {
      "cell_type": "code",
      "source": [
        "import pandas as pd\n",
        "import numpy as np\n",
        "import matplotlib.pyplot as plt\n",
        "import seaborn as sns\n",
        "from sklearn.model_selection import train_test_split\n",
        "\n",
        "from sklearn.model_selection import train_test_split\n",
        "\n",
        "from sklearn import linear_model\n",
        "from sklearn.preprocessing import StandardScaler\n",
        "\n",
        "from sklearn.preprocessing import LabelEncoder\n",
        "\n",
        "\n",
        "from sklearn.ensemble import RandomForestClassifier\n",
        "from sklearn.tree import DecisionTreeClassifier\n",
        "from sklearn.svm import SVR\n",
        "\n",
        "from gensim.models import Word2Vec\n",
        "\n",
        "from sklearn.linear_model import LogisticRegression\n",
        "from sklearn.tree import DecisionTreeClassifier\n",
        "from sklearn.svm import SVC\n",
        "from sklearn.ensemble import VotingClassifier\n",
        "from sklearn import model_selection\n",
        "from sklearn.ensemble import BaggingClassifier\n",
        "from sklearn.tree import DecisionTreeClassifier\n",
        "from sklearn.naive_bayes import GaussianNB\n",
        "from sklearn.metrics import accuracy_score\n",
        "\n"
      ],
      "metadata": {
        "id": "Pknl0I1sahCx"
      },
      "execution_count": 1,
      "outputs": []
    },
    {
      "cell_type": "code",
      "source": [
        "sentence= pd.read_csv('/content/Latest_1k.csv', encoding= 'unicode escape')"
      ],
      "metadata": {
        "id": "uXrMauD8avE5"
      },
      "execution_count": 2,
      "outputs": []
    },
    {
      "cell_type": "code",
      "source": [
        "from sklearn.feature_extraction.text import CountVectorizer\n",
        "\n",
        "vocabVector = CountVectorizer(analyzer='word', binary=True, lowercase=True, stop_words='english', vocabulary=None)\n",
        "\n"
      ],
      "metadata": {
        "id": "sRxY5nlBD9np"
      },
      "execution_count": 3,
      "outputs": []
    },
    {
      "cell_type": "code",
      "source": [
        "X= sentence.iloc[:,0:1].values\n",
        "Y= sentence.iloc[:,2:3].values"
      ],
      "metadata": {
        "id": "6p8g4RWl59Ev"
      },
      "execution_count": 4,
      "outputs": []
    },
    {
      "cell_type": "code",
      "source": [
        "sentence.replace({\"Label\": {'No':0, 'Yes':1}}, inplace= True)\n",
        "\n",
        "\n",
        "X_flat = list(np.concatenate(X). flat)\n",
        "Y_flat = list(np.concatenate(Y). flat)\n",
        "\n",
        "X_reshape= np.reshape(X_flat, (-1, 1))\n",
        "Y_reshape= np.reshape(Y_flat, (-1, 1))\n",
        "\n",
        "from sklearn.model_selection import train_test_split\n",
        "x_train, x_test, Y_train, Y_test = train_test_split(X_reshape,Y_reshape,test_size=.2,random_state=20)\n",
        "# print(x_train[0])\n",
        "Xtr= np.char.lower(x_train)\n",
        "Xts= np.char.lower(x_test)"
      ],
      "metadata": {
        "id": "vql-dkojav_7"
      },
      "execution_count": 31,
      "outputs": []
    },
    {
      "cell_type": "code",
      "source": [
        "#generate document- matrix for both trainings and testing data\n",
        "trainFeatureData_X = vocabVector.fit_transform([Xtr[0] for Xtr in Xtr])\n",
        "testFeatureData_X = vocabVector.transform([Xts[0] for Xts in Xts])\n",
        "# print(trainFeatureData_X.shape)\n",
        "# print(testFeatureData_X.shape)"
      ],
      "metadata": {
        "id": "fhgvYpZ_Ja-P"
      },
      "execution_count": 32,
      "outputs": []
    },
    {
      "cell_type": "code",
      "source": [
        "# converting into an array\n",
        "X_train= trainFeatureData_X.toarray()\n",
        "X_test= testFeatureData_X.toarray()"
      ],
      "metadata": {
        "id": "gkPfHJuxLiL4"
      },
      "execution_count": 33,
      "outputs": []
    },
    {
      "cell_type": "code",
      "source": [
        "# Voting Ensemble for Classification\n",
        "\n",
        "# create the sub models\n",
        "estimators = []\n",
        "\n",
        "model1 = LogisticRegression()\n",
        "estimators.append(('logistic', model1))\n",
        "\n",
        "model2 = DecisionTreeClassifier()\n",
        "estimators.append(('cart', model2))\n",
        "\n",
        "model3 = SVC()\n",
        "estimators.append(('svm', model3))\n",
        "\n",
        "model4= GaussianNB()\n",
        "estimators.append(('nb', model4))\n",
        "\n",
        "model5= RandomForestClassifier()\n",
        "estimators.append(('rfc', model5))\n",
        "\n",
        "\n",
        "# create the ensemble model\n",
        "ensemble = VotingClassifier(estimators)\n",
        "\n",
        "\n",
        "\n",
        "# train model\n",
        "ensemble.fit(X_train, Y_train)\n",
        "\n",
        "# test model\n",
        "pred = ensemble.predict(X_test)\n",
        "print(\"\\n\")\n",
        "print('Predicted class: ' + str(pred))\n",
        "\n",
        "\n",
        "acc = accuracy_score(Y_test, pred)\n",
        "print(\"\\nAccuracy: \")\n",
        "print(acc)"
      ],
      "metadata": {
        "colab": {
          "base_uri": "https://localhost:8080/"
        },
        "id": "Xab2wgToeaMI",
        "outputId": "18c3814e-fe31-489e-a636-a2c065b8ccdf"
      },
      "execution_count": 34,
      "outputs": [
        {
          "output_type": "stream",
          "name": "stderr",
          "text": [
            "/usr/local/lib/python3.7/dist-packages/sklearn/preprocessing/_label.py:98: DataConversionWarning: A column-vector y was passed when a 1d array was expected. Please change the shape of y to (n_samples, ), for example using ravel().\n",
            "  y = column_or_1d(y, warn=True)\n",
            "/usr/local/lib/python3.7/dist-packages/sklearn/preprocessing/_label.py:133: DataConversionWarning: A column-vector y was passed when a 1d array was expected. Please change the shape of y to (n_samples, ), for example using ravel().\n",
            "  y = column_or_1d(y, warn=True)\n"
          ]
        },
        {
          "output_type": "stream",
          "name": "stdout",
          "text": [
            "\n",
            "\n",
            "Predicted class: ['Yes' 'Yes' 'No' 'Yes' 'Yes' 'Yes' 'Yes' 'Yes' 'Yes' 'Yes' 'Yes' 'Yes'\n",
            " 'Yes' 'Yes' 'Yes' 'No' 'Yes' 'Yes' 'Yes' 'Yes' 'Yes' 'Yes' 'Yes' 'Yes'\n",
            " 'Yes' 'Yes' 'Yes' 'Yes' 'Yes' 'Yes' 'Yes' 'Yes' 'Yes' 'Yes' 'Yes' 'No'\n",
            " 'No' 'No' 'Yes' 'Yes' 'Yes' 'Yes' 'Yes' 'Yes' 'Yes' 'Yes' 'Yes' 'Yes'\n",
            " 'Yes' 'Yes' 'Yes' 'No' 'Yes' 'No' 'Yes' 'Yes' 'Yes' 'Yes' 'Yes' 'Yes'\n",
            " 'Yes' 'Yes' 'Yes' 'Yes' 'Yes' 'Yes' 'Yes' 'Yes' 'No' 'Yes' 'Yes' 'Yes'\n",
            " 'Yes' 'Yes' 'Yes' 'Yes' 'Yes' 'Yes' 'Yes' 'Yes' 'Yes' 'Yes' 'No' 'Yes'\n",
            " 'Yes' 'No' 'Yes' 'Yes' 'Yes' 'Yes' 'Yes' 'Yes' 'Yes' 'Yes' 'Yes' 'Yes'\n",
            " 'Yes' 'Yes' 'Yes' 'Yes' 'Yes' 'Yes' 'Yes' 'Yes' 'Yes' 'Yes' 'Yes' 'Yes'\n",
            " 'Yes' 'Yes' 'Yes' 'Yes' 'Yes' 'Yes' 'Yes' 'Yes' 'Yes' 'Yes' 'Yes' 'Yes'\n",
            " 'Yes' 'Yes' 'Yes' 'Yes' 'No' 'Yes' 'Yes' 'No' 'Yes' 'No' 'Yes' 'Yes'\n",
            " 'Yes' 'Yes' 'Yes' 'Yes' 'Yes' 'Yes' 'No' 'Yes' 'Yes' 'Yes' 'Yes' 'Yes'\n",
            " 'Yes' 'Yes' 'Yes' 'Yes' 'Yes' 'Yes' 'Yes' 'Yes' 'Yes' 'Yes' 'Yes' 'Yes'\n",
            " 'Yes' 'Yes' 'Yes' 'Yes' 'Yes' 'No' 'Yes' 'Yes' 'Yes' 'Yes' 'No' 'Yes'\n",
            " 'Yes' 'Yes' 'Yes' 'Yes' 'Yes' 'No' 'Yes' 'Yes' 'Yes' 'Yes' 'Yes' 'Yes'\n",
            " 'Yes' 'No' 'Yes' 'Yes' 'Yes' 'Yes' 'Yes' 'Yes' 'Yes' 'Yes' 'Yes' 'Yes'\n",
            " 'Yes' 'Yes' 'Yes' 'Yes' 'Yes' 'Yes' 'Yes' 'Yes' 'Yes' 'Yes' 'Yes' 'Yes'\n",
            " 'Yes' 'Yes']\n",
            "\n",
            "Accuracy: \n",
            "0.941747572815534\n"
          ]
        }
      ]
    },
    {
      "cell_type": "code",
      "source": [
        "# # make a prediction with a stacking ensemble\n",
        "# from sklearn.datasets import make_classification\n",
        "# from sklearn.ensemble import StackingClassifier\n",
        "# from sklearn.linear_model import LogisticRegression\n",
        "# from sklearn.ensemble import RandomForestClassifier\n",
        "# from sklearn.tree import DecisionTreeClassifier\n",
        "# from sklearn.svm import SVC\n",
        "# from sklearn.naive_bayes import GaussianNB\n",
        "# from sklearn.ensemble import VotingClassifier\n",
        "# from sklearn import model_selection\n",
        "# import string \n",
        "\n",
        "\n",
        "# # define the base models\n",
        "# level0 = list()\n",
        "# level0.append(('lr', LogisticRegression()))\n",
        "# level0.append(('rfc', RandomForestClassifier()))\n",
        "# level0.append(('cart', DecisionTreeClassifier()))\n",
        "# level0.append(('svm', SVC()))\n",
        "# level0.append(('bayes', GaussianNB()))\n",
        "# # define meta learner model\n",
        "# level1 = LogisticRegression()\n",
        "# # define the stacking ensemble\n",
        "# model = StackingClassifier(estimators=level0, final_estimator=level1, cv=5)\n",
        "# # fit the model on all available data\n",
        "# model.fit(X_train, Y_train)\n",
        "\n",
        "\n",
        "# # create the ensemble model\n",
        "# ensemble = VotingClassifier(level0)\n",
        "# results = model_selection.cross_val_score(ensemble, X_test, Y_test)\n",
        "# print(results)\n",
        "# print(results.mean())\n",
        "\n",
        "# # make a prediction for one example\n",
        "# # data = [[2.47475454,0.40165523,1.68081787,2.88940715,0.91704519,-3.07950644,4.39961206,0.72464273,-4.86563631,-6.06338084,-1.22209949,-0.4699618,1.01222748,-0.6899355,-0.53000581,6.86966784,-3.27211075,-6.59044146,-2.21290585,-3.139579]]\n",
        "# yhat = model.predict(X_test)\n",
        "# print('Predicted class: ' + str(yhat))"
      ],
      "metadata": {
        "id": "pF8nkPh3f_R5"
      },
      "execution_count": null,
      "outputs": []
    }
  ]
}